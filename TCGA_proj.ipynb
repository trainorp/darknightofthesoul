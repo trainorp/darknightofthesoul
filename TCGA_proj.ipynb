{
 "cells": [
  {
   "cell_type": "markdown",
   "id": "d265d46d-5717-481a-aee4-c23a1275783a",
   "metadata": {},
   "source": [
    "# Prereqs"
   ]
  },
  {
   "cell_type": "code",
   "execution_count": 1,
   "id": "220d0e5a-608b-4a90-9bfb-9b915ac1ea07",
   "metadata": {},
   "outputs": [],
   "source": [
    "import pandas as pd\n",
    "import gzip"
   ]
  },
  {
   "cell_type": "markdown",
   "id": "f05c1bcb-471d-4ab6-b4f2-f237c1d72b29",
   "metadata": {},
   "source": [
    "# Import data and process"
   ]
  },
  {
   "cell_type": "code",
   "execution_count": 13,
   "id": "b1709b50-728b-4018-a787-ef938d293b8f",
   "metadata": {},
   "outputs": [
    {
     "name": "stderr",
     "output_type": "stream",
     "text": [
      "/var/folders/97/q2wcd1jj1kv7y34yz98f8rp00000gn/T/ipykernel_15674/3641784841.py:2: DtypeWarning: Columns (4) have mixed types. Specify dtype option on import or set low_memory=False.\n",
      "  maf = pd.read_csv(file, sep = '\\t', comment = '#')\n"
     ]
    },
    {
     "name": "stdout",
     "output_type": "stream",
     "text": [
      "Total mutations loaded:  3600963\n"
     ]
    }
   ],
   "source": [
    "maf_path = \"/Users/patrick/Documents/Data/mc3.v0.2.8.PUBLIC.maf.gz\"\n",
    "\n",
    "with gzip.open(maf_path, 'rt') as file:\n",
    "    maf = pd.read_csv(file, sep = '\\t', comment = '#')\n",
    "\n",
    "print(\"Total mutations loaded: \", len(maf))"
   ]
  },
  {
   "cell_type": "code",
   "execution_count": null,
   "id": "a6ecb8f7-ee43-4c4b-a8da-6a7413ef2401",
   "metadata": {},
   "outputs": [],
   "source": [
    "skcm_cases = maf[maf['Tumor_Sample_Barcode'].str.startswith('TCGA')]"
   ]
  }
 ],
 "metadata": {
  "kernelspec": {
   "display_name": "Python 3 (ipykernel)",
   "language": "python",
   "name": "python3"
  },
  "language_info": {
   "codemirror_mode": {
    "name": "ipython",
    "version": 3
   },
   "file_extension": ".py",
   "mimetype": "text/x-python",
   "name": "python",
   "nbconvert_exporter": "python",
   "pygments_lexer": "ipython3",
   "version": "3.13.3"
  }
 },
 "nbformat": 4,
 "nbformat_minor": 5
}
