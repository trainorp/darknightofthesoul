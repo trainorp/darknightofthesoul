{
 "cells": [
  {
   "cell_type": "markdown",
   "id": "d265d46d-5717-481a-aee4-c23a1275783a",
   "metadata": {},
   "source": [
    "# Prereqs"
   ]
  },
  {
   "cell_type": "code",
   "execution_count": 1,
   "id": "220d0e5a-608b-4a90-9bfb-9b915ac1ea07",
   "metadata": {},
   "outputs": [],
   "source": [
    "import pandas as pd\n",
    "import gzip\n",
    "\n",
    "pd.set_option('display.max_rows', None)  # Show all rows"
   ]
  },
  {
   "cell_type": "markdown",
   "id": "f05c1bcb-471d-4ab6-b4f2-f237c1d72b29",
   "metadata": {},
   "source": [
    "# Import data and process"
   ]
  },
  {
   "cell_type": "code",
   "execution_count": 2,
   "id": "c96104e6-0bd5-495d-8add-d0118bfddec3",
   "metadata": {},
   "outputs": [],
   "source": [
    "data_dir = \"/Users/patrick/Documents/Data/DKS/\""
   ]
  },
  {
   "cell_type": "markdown",
   "id": "4dc59b8d-5b8b-4c9e-8fc6-8ffa1aa7bfb4",
   "metadata": {},
   "source": [
    "Import Mutation Annotation Format file:"
   ]
  },
  {
   "cell_type": "code",
   "execution_count": 3,
   "id": "b1709b50-728b-4018-a787-ef938d293b8f",
   "metadata": {},
   "outputs": [
    {
     "name": "stdout",
     "output_type": "stream",
     "text": [
      "Total mutations loaded: 3600963\n"
     ]
    }
   ],
   "source": [
    "maf_path = data_dir + \"mc3.v0.2.8.PUBLIC.maf.gz\"\n",
    "\n",
    "with gzip.open(maf_path, 'rt') as file:\n",
    "    maf = pd.read_csv(file, sep = '\\t', comment = '#', low_memory = False)\n",
    "\n",
    "print(\"Total mutations loaded:\", len(maf))"
   ]
  },
  {
   "cell_type": "markdown",
   "id": "f4789e0e-7f53-4739-871d-65927e08e8eb",
   "metadata": {},
   "source": [
    "Import clinical, sample, gene expression, and Bagaev annotation data:"
   ]
  },
  {
   "cell_type": "code",
   "execution_count": 4,
   "id": "33f64a88-4fb9-463b-8218-36df78dc04a1",
   "metadata": {},
   "outputs": [],
   "source": [
    "clinical_path = data_dir + \"clinical.project-tcga-skcm.2025-05-02/clinical.tsv\"\n",
    "clinical = pd.read_csv(clinical_path, sep='\\t')\n",
    "\n",
    "sample_path = data_dir + \"biospecimen.project-tcga-skcm.2025-05-03/sample.tsv\"\n",
    "sample = pd.read_csv(sample_path, sep = '\\t')\n",
    "\n",
    "expr_path = data_dir + \"TCGA-SKCM.star_fpkm.tsv\"\n",
    "expr = pd.read_csv(expr_path, sep= '\\t', index_col = 0)\n",
    "\n",
    "bag_path = data_dir + \"mmc2.xlsx\"\n",
    "bag = pd.read_excel(bag_path, sheet_name = 2)"
   ]
  },
  {
   "cell_type": "markdown",
   "id": "c147bbed-252b-4e47-8d24-db379a35a882",
   "metadata": {},
   "source": [
    "Get primary tumor samples only:"
   ]
  },
  {
   "cell_type": "code",
   "execution_count": 5,
   "id": "272137dd-b404-4902-be50-712f819770a6",
   "metadata": {},
   "outputs": [
    {
     "name": "stdout",
     "output_type": "stream",
     "text": [
      "Total number of samples: 396\n",
      "0 patients have multiple primary tumor samples.\n"
     ]
    }
   ],
   "source": [
    "primary_samples = sample[sample['samples.sample_type'] == 'Primary Tumor']\n",
    "print(\"Total number of samples:\", primary_samples.shape[0])\n",
    "\n",
    "sample_counts = primary_samples['samples.submitter_id'].value_counts()\n",
    "num_with_multiple = (sample_counts > 1).sum()\n",
    "print(f\"{num_with_multiple} patients have multiple primary tumor samples.\")"
   ]
  },
  {
   "cell_type": "markdown",
   "id": "e75d123e-4b40-4272-b960-97b26bf24ce8",
   "metadata": {},
   "source": [
    "Filter MAF file for these primary tumors:"
   ]
  },
  {
   "cell_type": "code",
   "execution_count": 6,
   "id": "90bf41c1-7064-4410-bd82-2f69474d06bd",
   "metadata": {},
   "outputs": [
    {
     "name": "stdout",
     "output_type": "stream",
     "text": [
      "SKCM primary tumor mutations: 79214\n"
     ]
    }
   ],
   "source": [
    "primary_barcodes = primary_samples['samples.submitter_id']\n",
    "maf['sample_barcode'] = maf['Tumor_Sample_Barcode'].str.slice(0, 16)\n",
    "skcm_maf = maf[maf['sample_barcode'].isin(primary_barcodes)]\n",
    "print(f\"SKCM primary tumor mutations: {len(skcm_maf)}\")"
   ]
  },
  {
   "cell_type": "markdown",
   "id": "feb340d9-7af5-4a1b-8100-333ed9f37567",
   "metadata": {},
   "source": [
    "Mutation types and frequencies:"
   ]
  },
  {
   "cell_type": "code",
   "execution_count": 7,
   "id": "166fef8d-29c9-4628-a126-77493f58d154",
   "metadata": {},
   "outputs": [
    {
     "data": {
      "text/html": [
       "<div>\n",
       "<style scoped>\n",
       "    .dataframe tbody tr th:only-of-type {\n",
       "        vertical-align: middle;\n",
       "    }\n",
       "\n",
       "    .dataframe tbody tr th {\n",
       "        vertical-align: top;\n",
       "    }\n",
       "\n",
       "    .dataframe thead th {\n",
       "        text-align: right;\n",
       "    }\n",
       "</style>\n",
       "<table border=\"1\" class=\"dataframe\">\n",
       "  <thead>\n",
       "    <tr style=\"text-align: right;\">\n",
       "      <th></th>\n",
       "      <th>Count</th>\n",
       "      <th>Percent</th>\n",
       "    </tr>\n",
       "    <tr>\n",
       "      <th>Variant_Classification</th>\n",
       "      <th></th>\n",
       "      <th></th>\n",
       "    </tr>\n",
       "  </thead>\n",
       "  <tbody>\n",
       "    <tr>\n",
       "      <th>Missense_Mutation</th>\n",
       "      <td>1921979</td>\n",
       "      <td>53.37</td>\n",
       "    </tr>\n",
       "    <tr>\n",
       "      <th>Silent</th>\n",
       "      <td>782687</td>\n",
       "      <td>21.74</td>\n",
       "    </tr>\n",
       "    <tr>\n",
       "      <th>3'UTR</th>\n",
       "      <td>282636</td>\n",
       "      <td>7.85</td>\n",
       "    </tr>\n",
       "    <tr>\n",
       "      <th>Nonsense_Mutation</th>\n",
       "      <td>157232</td>\n",
       "      <td>4.37</td>\n",
       "    </tr>\n",
       "    <tr>\n",
       "      <th>Intron</th>\n",
       "      <td>108104</td>\n",
       "      <td>3.00</td>\n",
       "    </tr>\n",
       "    <tr>\n",
       "      <th>Frame_Shift_Del</th>\n",
       "      <td>87013</td>\n",
       "      <td>2.42</td>\n",
       "    </tr>\n",
       "    <tr>\n",
       "      <th>5'UTR</th>\n",
       "      <td>81323</td>\n",
       "      <td>2.26</td>\n",
       "    </tr>\n",
       "    <tr>\n",
       "      <th>Splice_Site</th>\n",
       "      <td>50617</td>\n",
       "      <td>1.41</td>\n",
       "    </tr>\n",
       "    <tr>\n",
       "      <th>RNA</th>\n",
       "      <td>49540</td>\n",
       "      <td>1.38</td>\n",
       "    </tr>\n",
       "    <tr>\n",
       "      <th>Frame_Shift_Ins</th>\n",
       "      <td>27128</td>\n",
       "      <td>0.75</td>\n",
       "    </tr>\n",
       "    <tr>\n",
       "      <th>3'Flank</th>\n",
       "      <td>21060</td>\n",
       "      <td>0.58</td>\n",
       "    </tr>\n",
       "    <tr>\n",
       "      <th>5'Flank</th>\n",
       "      <td>15726</td>\n",
       "      <td>0.44</td>\n",
       "    </tr>\n",
       "    <tr>\n",
       "      <th>In_Frame_Del</th>\n",
       "      <td>10254</td>\n",
       "      <td>0.28</td>\n",
       "    </tr>\n",
       "    <tr>\n",
       "      <th>Translation_Start_Site</th>\n",
       "      <td>2723</td>\n",
       "      <td>0.08</td>\n",
       "    </tr>\n",
       "    <tr>\n",
       "      <th>Nonstop_Mutation</th>\n",
       "      <td>2042</td>\n",
       "      <td>0.06</td>\n",
       "    </tr>\n",
       "    <tr>\n",
       "      <th>In_Frame_Ins</th>\n",
       "      <td>899</td>\n",
       "      <td>0.02</td>\n",
       "    </tr>\n",
       "  </tbody>\n",
       "</table>\n",
       "</div>"
      ],
      "text/plain": [
       "                          Count  Percent\n",
       "Variant_Classification                  \n",
       "Missense_Mutation       1921979    53.37\n",
       "Silent                   782687    21.74\n",
       "3'UTR                    282636     7.85\n",
       "Nonsense_Mutation        157232     4.37\n",
       "Intron                   108104     3.00\n",
       "Frame_Shift_Del           87013     2.42\n",
       "5'UTR                     81323     2.26\n",
       "Splice_Site               50617     1.41\n",
       "RNA                       49540     1.38\n",
       "Frame_Shift_Ins           27128     0.75\n",
       "3'Flank                   21060     0.58\n",
       "5'Flank                   15726     0.44\n",
       "In_Frame_Del              10254     0.28\n",
       "Translation_Start_Site     2723     0.08\n",
       "Nonstop_Mutation           2042     0.06\n",
       "In_Frame_Ins                899     0.02"
      ]
     },
     "execution_count": 7,
     "metadata": {},
     "output_type": "execute_result"
    }
   ],
   "source": [
    "mutation_summary = pd.DataFrame({\n",
    "    'Count': maf['Variant_Classification'].value_counts(),\n",
    "    'Percent': (maf['Variant_Classification'].value_counts(normalize=True) * 100).round(2)\n",
    "})\n",
    "mutation_summary"
   ]
  },
  {
   "cell_type": "markdown",
   "id": "a93701b2-f5e6-4414-ab0e-446aef71384f",
   "metadata": {},
   "source": [
    "Non synonymous mutations only:"
   ]
  },
  {
   "cell_type": "code",
   "execution_count": 8,
   "id": "c6f0a44e-d314-4e2f-af9f-2723eed55c45",
   "metadata": {},
   "outputs": [
    {
     "name": "stdout",
     "output_type": "stream",
     "text": [
      "Non-synonymous mutations: 47273\n"
     ]
    }
   ],
   "source": [
    "non_synonymous = ['Missense_Mutation','Nonsense_Mutation','Frame_Shift_Del',\n",
    "    'Frame_Shift_Ins','Splice_Site','Translation_Start_Site',\n",
    "    'In_Frame_Del','In_Frame_Ins','Nonstop_Mutation'\n",
    "]\n",
    "\n",
    "ns_maf = skcm_maf[skcm_maf['Variant_Classification'].isin(non_synonymous)]\n",
    "print(f\"Non-synonymous mutations: {len(ns_maf)}\")"
   ]
  },
  {
   "cell_type": "markdown",
   "id": "c1b1beff-2471-42b8-aecf-14fa77865407",
   "metadata": {},
   "source": [
    "TMB per sample:"
   ]
  },
  {
   "cell_type": "code",
   "execution_count": 10,
   "id": "14b6273f-c364-4706-a85d-67d136397b40",
   "metadata": {},
   "outputs": [],
   "source": [
    "tmb_counts = (\n",
    "    ns_maf['Tumor_Sample_Barcode']\n",
    "    .value_counts()\n",
    "    .rename_axis('sample_barcode')\n",
    "    .reset_index(name='mutation_count')\n",
    ")\n",
    "\n",
    "tmb_counts['TMB'] = (tmb_counts['mutation_count'] / 38)\n",
    "tmb_counts['TMB_bin'] = pd.qcut(tmb_counts['TMB'], q = 3, labels = ['Low', 'Medium', 'High'])"
   ]
  },
  {
   "cell_type": "code",
   "execution_count": 11,
   "id": "119ba940-15b0-4872-877d-3769660b51f9",
   "metadata": {},
   "outputs": [
    {
     "data": {
      "text/html": [
       "<div>\n",
       "<style scoped>\n",
       "    .dataframe tbody tr th:only-of-type {\n",
       "        vertical-align: middle;\n",
       "    }\n",
       "\n",
       "    .dataframe tbody tr th {\n",
       "        vertical-align: top;\n",
       "    }\n",
       "\n",
       "    .dataframe thead th {\n",
       "        text-align: right;\n",
       "    }\n",
       "</style>\n",
       "<table border=\"1\" class=\"dataframe\">\n",
       "  <thead>\n",
       "    <tr style=\"text-align: right;\">\n",
       "      <th></th>\n",
       "      <th>sample_barcode</th>\n",
       "      <th>mutation_count</th>\n",
       "      <th>TMB</th>\n",
       "      <th>TMB_bin</th>\n",
       "    </tr>\n",
       "  </thead>\n",
       "  <tbody>\n",
       "    <tr>\n",
       "      <th>0</th>\n",
       "      <td>TCGA-FR-A726-01A-11D-A32N-08</td>\n",
       "      <td>5776</td>\n",
       "      <td>152.000000</td>\n",
       "      <td>High</td>\n",
       "    </tr>\n",
       "    <tr>\n",
       "      <th>1</th>\n",
       "      <td>TCGA-BF-A1Q0-01A-21D-A19A-08</td>\n",
       "      <td>2592</td>\n",
       "      <td>68.210526</td>\n",
       "      <td>High</td>\n",
       "    </tr>\n",
       "    <tr>\n",
       "      <th>2</th>\n",
       "      <td>TCGA-GN-A26C-01A-11D-A19A-08</td>\n",
       "      <td>2412</td>\n",
       "      <td>63.473684</td>\n",
       "      <td>High</td>\n",
       "    </tr>\n",
       "    <tr>\n",
       "      <th>3</th>\n",
       "      <td>TCGA-YG-AA3N-01A-11D-A38G-08</td>\n",
       "      <td>1644</td>\n",
       "      <td>43.263158</td>\n",
       "      <td>High</td>\n",
       "    </tr>\n",
       "    <tr>\n",
       "      <th>4</th>\n",
       "      <td>TCGA-BF-A1PZ-01A-11D-A19A-08</td>\n",
       "      <td>1594</td>\n",
       "      <td>41.947368</td>\n",
       "      <td>High</td>\n",
       "    </tr>\n",
       "  </tbody>\n",
       "</table>\n",
       "</div>"
      ],
      "text/plain": [
       "                 sample_barcode  mutation_count         TMB TMB_bin\n",
       "0  TCGA-FR-A726-01A-11D-A32N-08            5776  152.000000    High\n",
       "1  TCGA-BF-A1Q0-01A-21D-A19A-08            2592   68.210526    High\n",
       "2  TCGA-GN-A26C-01A-11D-A19A-08            2412   63.473684    High\n",
       "3  TCGA-YG-AA3N-01A-11D-A38G-08            1644   43.263158    High\n",
       "4  TCGA-BF-A1PZ-01A-11D-A19A-08            1594   41.947368    High"
      ]
     },
     "execution_count": 11,
     "metadata": {},
     "output_type": "execute_result"
    }
   ],
   "source": [
    "tmb_counts.head()"
   ]
  },
  {
   "cell_type": "markdown",
   "id": "9509b1a1-58d9-4cbe-80c5-98b1f7709f40",
   "metadata": {},
   "source": [
    "# Gene expression based T-cell classification"
   ]
  },
  {
   "cell_type": "code",
   "execution_count": 12,
   "id": "cd826930-5522-422b-92d2-413d027948bf",
   "metadata": {},
   "outputs": [
    {
     "data": {
      "text/html": [
       "<div>\n",
       "<style scoped>\n",
       "    .dataframe tbody tr th:only-of-type {\n",
       "        vertical-align: middle;\n",
       "    }\n",
       "\n",
       "    .dataframe tbody tr th {\n",
       "        vertical-align: top;\n",
       "    }\n",
       "\n",
       "    .dataframe thead th {\n",
       "        text-align: right;\n",
       "    }\n",
       "</style>\n",
       "<table border=\"1\" class=\"dataframe\">\n",
       "  <thead>\n",
       "    <tr style=\"text-align: right;\">\n",
       "      <th></th>\n",
       "      <th>Table S1. The 29 Fges developed for the TME classification platform. Related to Figure 1.</th>\n",
       "      <th>Unnamed: 1</th>\n",
       "      <th>Unnamed: 2</th>\n",
       "      <th>Unnamed: 3</th>\n",
       "    </tr>\n",
       "  </thead>\n",
       "  <tbody>\n",
       "    <tr>\n",
       "      <th>0</th>\n",
       "      <td>Gene</td>\n",
       "      <td>Gene signature</td>\n",
       "      <td>Description</td>\n",
       "      <td>PMID</td>\n",
       "    </tr>\n",
       "    <tr>\n",
       "      <th>1</th>\n",
       "      <td>ANGPT1</td>\n",
       "      <td>Angiogenesis</td>\n",
       "      <td>ANGPT1 functions as a TIE2 agonist, which indu...</td>\n",
       "      <td>20651738</td>\n",
       "    </tr>\n",
       "    <tr>\n",
       "      <th>2</th>\n",
       "      <td>ANGPT2</td>\n",
       "      <td>Angiogenesis</td>\n",
       "      <td>ANGPT2 normally functions as an ANGPT1antagoni...</td>\n",
       "      <td>20651738</td>\n",
       "    </tr>\n",
       "    <tr>\n",
       "      <th>3</th>\n",
       "      <td>CDH5</td>\n",
       "      <td>Angiogenesis</td>\n",
       "      <td>Vascular endothelial (VE)-cadherin is specific...</td>\n",
       "      <td>16256984</td>\n",
       "    </tr>\n",
       "    <tr>\n",
       "      <th>4</th>\n",
       "      <td>CXCL5</td>\n",
       "      <td>Angiogenesis</td>\n",
       "      <td>CXCL5, a member of the CXC chemokine family, h...</td>\n",
       "      <td>21356384</td>\n",
       "    </tr>\n",
       "  </tbody>\n",
       "</table>\n",
       "</div>"
      ],
      "text/plain": [
       "  Table S1. The 29 Fges developed for the TME classification platform. Related to Figure 1.   \\\n",
       "0                                               Gene                                           \n",
       "1                                             ANGPT1                                           \n",
       "2                                             ANGPT2                                           \n",
       "3                                               CDH5                                           \n",
       "4                                              CXCL5                                           \n",
       "\n",
       "       Unnamed: 1                                         Unnamed: 2  \\\n",
       "0  Gene signature                                        Description   \n",
       "1    Angiogenesis  ANGPT1 functions as a TIE2 agonist, which indu...   \n",
       "2    Angiogenesis  ANGPT2 normally functions as an ANGPT1antagoni...   \n",
       "3    Angiogenesis  Vascular endothelial (VE)-cadherin is specific...   \n",
       "4    Angiogenesis  CXCL5, a member of the CXC chemokine family, h...   \n",
       "\n",
       "  Unnamed: 3  \n",
       "0       PMID  \n",
       "1   20651738  \n",
       "2   20651738  \n",
       "3   16256984  \n",
       "4   21356384  "
      ]
     },
     "execution_count": 12,
     "metadata": {},
     "output_type": "execute_result"
    }
   ],
   "source": [
    "bag.head()"
   ]
  },
  {
   "cell_type": "markdown",
   "id": "0b76d092-d07a-4fd0-a3c2-035c68fbf4fe",
   "metadata": {},
   "source": [
    "# Pan cancer atlas immune subtypes (C1-C6)"
   ]
  },
  {
   "cell_type": "code",
   "execution_count": null,
   "id": "c0b05ccc-6be0-4d82-a9cb-f714d821180c",
   "metadata": {},
   "outputs": [],
   "source": []
  }
 ],
 "metadata": {
  "kernelspec": {
   "display_name": "Python 3 (ipykernel)",
   "language": "python",
   "name": "python3"
  },
  "language_info": {
   "codemirror_mode": {
    "name": "ipython",
    "version": 3
   },
   "file_extension": ".py",
   "mimetype": "text/x-python",
   "name": "python",
   "nbconvert_exporter": "python",
   "pygments_lexer": "ipython3",
   "version": "3.13.3"
  }
 },
 "nbformat": 4,
 "nbformat_minor": 5
}
