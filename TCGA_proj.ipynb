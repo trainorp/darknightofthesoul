{
 "cells": [
  {
   "cell_type": "markdown",
   "id": "d265d46d-5717-481a-aee4-c23a1275783a",
   "metadata": {},
   "source": [
    "# Prereqs"
   ]
  },
  {
   "cell_type": "code",
   "execution_count": 1,
   "id": "220d0e5a-608b-4a90-9bfb-9b915ac1ea07",
   "metadata": {},
   "outputs": [],
   "source": [
    "import pandas as pd\n",
    "import numpy as np\n",
    "import gzip\n",
    "import rpy2.robjects as robjects\n",
    "from rpy2.robjects import pandas2ri\n",
    "from rpy2.robjects.packages import importr\n",
    "from rpy2.robjects import r\n",
    "from sklearn.preprocessing import StandardScaler\n",
    "from sklearn.decomposition import PCA\n",
    "from IPython.display import Image\n",
    "\n",
    "pd.set_option('display.max_rows', None)"
   ]
  },
  {
   "cell_type": "markdown",
   "id": "f05c1bcb-471d-4ab6-b4f2-f237c1d72b29",
   "metadata": {},
   "source": [
    "# Import data and process"
   ]
  },
  {
   "cell_type": "code",
   "execution_count": 2,
   "id": "c96104e6-0bd5-495d-8add-d0118bfddec3",
   "metadata": {},
   "outputs": [],
   "source": [
    "data_dir = \"/Users/patrick/Documents/Data/DKS/\""
   ]
  },
  {
   "cell_type": "markdown",
   "id": "4dc59b8d-5b8b-4c9e-8fc6-8ffa1aa7bfb4",
   "metadata": {},
   "source": [
    "Import Mutation Annotation Format file:"
   ]
  },
  {
   "cell_type": "code",
   "execution_count": 3,
   "id": "b1709b50-728b-4018-a787-ef938d293b8f",
   "metadata": {},
   "outputs": [
    {
     "name": "stdout",
     "output_type": "stream",
     "text": [
      "Total mutations loaded: 3600963\n"
     ]
    }
   ],
   "source": [
    "maf_path = data_dir + \"mc3.v0.2.8.PUBLIC.maf.gz\"\n",
    "\n",
    "with gzip.open(maf_path, 'rt') as file:\n",
    "    maf = pd.read_csv(file, sep = '\\t', comment = '#', low_memory = False)\n",
    "\n",
    "print(\"Total mutations loaded:\", len(maf))"
   ]
  },
  {
   "cell_type": "markdown",
   "id": "f4789e0e-7f53-4739-871d-65927e08e8eb",
   "metadata": {},
   "source": [
    "Import clinical, sample, gene expression, and Bagaev annotation data:"
   ]
  },
  {
   "cell_type": "code",
   "execution_count": 4,
   "id": "33f64a88-4fb9-463b-8218-36df78dc04a1",
   "metadata": {},
   "outputs": [],
   "source": [
    "clinical = pd.read_csv(data_dir + \"clinical.project-tcga-skcm.2025-05-02/clinical.tsv\", sep='\\t')\n",
    "\n",
    "sample = pd.read_csv(data_dir + \"biospecimen.project-tcga-skcm.2025-05-03/sample.tsv\", sep = '\\t')\n",
    "\n",
    "expr = pd.read_csv(data_dir + \"TCGA-SKCM.star_fpkm.tsv\", sep= '\\t', index_col = 0)\n",
    "\n",
    "bag = pd.read_excel(data_dir + \"mmc2.xlsx\", sheet_name = 2, header = 1)\n",
    "\n",
    "gencode_map = pd.read_csv(data_dir + \"gencode.v36.annotation.gtf.gene.probemap\", sep='\\t')"
   ]
  },
  {
   "cell_type": "markdown",
   "id": "c147bbed-252b-4e47-8d24-db379a35a882",
   "metadata": {},
   "source": [
    "Get primary tumor samples only:"
   ]
  },
  {
   "cell_type": "code",
   "execution_count": 5,
   "id": "272137dd-b404-4902-be50-712f819770a6",
   "metadata": {},
   "outputs": [
    {
     "name": "stdout",
     "output_type": "stream",
     "text": [
      "Total number of samples: 396\n",
      "0 patients have multiple primary tumor samples.\n"
     ]
    }
   ],
   "source": [
    "primary_samples = sample[sample['samples.sample_type'] == 'Primary Tumor']\n",
    "print(\"Total number of samples:\", primary_samples.shape[0])\n",
    "\n",
    "sample_counts = primary_samples['samples.submitter_id'].value_counts()\n",
    "num_with_multiple = (sample_counts > 1).sum()\n",
    "print(f\"{num_with_multiple} patients have multiple primary tumor samples.\")"
   ]
  },
  {
   "cell_type": "markdown",
   "id": "e75d123e-4b40-4272-b960-97b26bf24ce8",
   "metadata": {},
   "source": [
    "Filter MAF file for these primary tumors:"
   ]
  },
  {
   "cell_type": "code",
   "execution_count": 6,
   "id": "90bf41c1-7064-4410-bd82-2f69474d06bd",
   "metadata": {},
   "outputs": [
    {
     "name": "stdout",
     "output_type": "stream",
     "text": [
      "SKCM primary tumor mutations: 79214\n"
     ]
    }
   ],
   "source": [
    "primary_barcodes = primary_samples['samples.submitter_id']\n",
    "maf['sample_barcode'] = maf['Tumor_Sample_Barcode'].str.slice(0, 16)\n",
    "skcm_maf = maf[maf['sample_barcode'].isin(primary_barcodes)]\n",
    "print(f\"SKCM primary tumor mutations: {len(skcm_maf)}\")"
   ]
  },
  {
   "cell_type": "markdown",
   "id": "feb340d9-7af5-4a1b-8100-333ed9f37567",
   "metadata": {},
   "source": [
    "Mutation types and frequencies:"
   ]
  },
  {
   "cell_type": "code",
   "execution_count": 7,
   "id": "166fef8d-29c9-4628-a126-77493f58d154",
   "metadata": {},
   "outputs": [
    {
     "data": {
      "text/html": [
       "<div>\n",
       "<style scoped>\n",
       "    .dataframe tbody tr th:only-of-type {\n",
       "        vertical-align: middle;\n",
       "    }\n",
       "\n",
       "    .dataframe tbody tr th {\n",
       "        vertical-align: top;\n",
       "    }\n",
       "\n",
       "    .dataframe thead th {\n",
       "        text-align: right;\n",
       "    }\n",
       "</style>\n",
       "<table border=\"1\" class=\"dataframe\">\n",
       "  <thead>\n",
       "    <tr style=\"text-align: right;\">\n",
       "      <th></th>\n",
       "      <th>Count</th>\n",
       "      <th>Percent</th>\n",
       "    </tr>\n",
       "    <tr>\n",
       "      <th>Variant_Classification</th>\n",
       "      <th></th>\n",
       "      <th></th>\n",
       "    </tr>\n",
       "  </thead>\n",
       "  <tbody>\n",
       "    <tr>\n",
       "      <th>Missense_Mutation</th>\n",
       "      <td>1921979</td>\n",
       "      <td>53.37</td>\n",
       "    </tr>\n",
       "    <tr>\n",
       "      <th>Silent</th>\n",
       "      <td>782687</td>\n",
       "      <td>21.74</td>\n",
       "    </tr>\n",
       "    <tr>\n",
       "      <th>3'UTR</th>\n",
       "      <td>282636</td>\n",
       "      <td>7.85</td>\n",
       "    </tr>\n",
       "    <tr>\n",
       "      <th>Nonsense_Mutation</th>\n",
       "      <td>157232</td>\n",
       "      <td>4.37</td>\n",
       "    </tr>\n",
       "    <tr>\n",
       "      <th>Intron</th>\n",
       "      <td>108104</td>\n",
       "      <td>3.00</td>\n",
       "    </tr>\n",
       "    <tr>\n",
       "      <th>Frame_Shift_Del</th>\n",
       "      <td>87013</td>\n",
       "      <td>2.42</td>\n",
       "    </tr>\n",
       "    <tr>\n",
       "      <th>5'UTR</th>\n",
       "      <td>81323</td>\n",
       "      <td>2.26</td>\n",
       "    </tr>\n",
       "    <tr>\n",
       "      <th>Splice_Site</th>\n",
       "      <td>50617</td>\n",
       "      <td>1.41</td>\n",
       "    </tr>\n",
       "    <tr>\n",
       "      <th>RNA</th>\n",
       "      <td>49540</td>\n",
       "      <td>1.38</td>\n",
       "    </tr>\n",
       "    <tr>\n",
       "      <th>Frame_Shift_Ins</th>\n",
       "      <td>27128</td>\n",
       "      <td>0.75</td>\n",
       "    </tr>\n",
       "    <tr>\n",
       "      <th>3'Flank</th>\n",
       "      <td>21060</td>\n",
       "      <td>0.58</td>\n",
       "    </tr>\n",
       "    <tr>\n",
       "      <th>5'Flank</th>\n",
       "      <td>15726</td>\n",
       "      <td>0.44</td>\n",
       "    </tr>\n",
       "    <tr>\n",
       "      <th>In_Frame_Del</th>\n",
       "      <td>10254</td>\n",
       "      <td>0.28</td>\n",
       "    </tr>\n",
       "    <tr>\n",
       "      <th>Translation_Start_Site</th>\n",
       "      <td>2723</td>\n",
       "      <td>0.08</td>\n",
       "    </tr>\n",
       "    <tr>\n",
       "      <th>Nonstop_Mutation</th>\n",
       "      <td>2042</td>\n",
       "      <td>0.06</td>\n",
       "    </tr>\n",
       "    <tr>\n",
       "      <th>In_Frame_Ins</th>\n",
       "      <td>899</td>\n",
       "      <td>0.02</td>\n",
       "    </tr>\n",
       "  </tbody>\n",
       "</table>\n",
       "</div>"
      ],
      "text/plain": [
       "                          Count  Percent\n",
       "Variant_Classification                  \n",
       "Missense_Mutation       1921979    53.37\n",
       "Silent                   782687    21.74\n",
       "3'UTR                    282636     7.85\n",
       "Nonsense_Mutation        157232     4.37\n",
       "Intron                   108104     3.00\n",
       "Frame_Shift_Del           87013     2.42\n",
       "5'UTR                     81323     2.26\n",
       "Splice_Site               50617     1.41\n",
       "RNA                       49540     1.38\n",
       "Frame_Shift_Ins           27128     0.75\n",
       "3'Flank                   21060     0.58\n",
       "5'Flank                   15726     0.44\n",
       "In_Frame_Del              10254     0.28\n",
       "Translation_Start_Site     2723     0.08\n",
       "Nonstop_Mutation           2042     0.06\n",
       "In_Frame_Ins                899     0.02"
      ]
     },
     "execution_count": 7,
     "metadata": {},
     "output_type": "execute_result"
    }
   ],
   "source": [
    "mutation_summary = pd.DataFrame({\n",
    "    'Count': maf['Variant_Classification'].value_counts(),\n",
    "    'Percent': (maf['Variant_Classification'].value_counts(normalize=True) * 100).round(2)\n",
    "})\n",
    "mutation_summary"
   ]
  },
  {
   "cell_type": "markdown",
   "id": "a93701b2-f5e6-4414-ab0e-446aef71384f",
   "metadata": {},
   "source": [
    "Non synonymous mutations only:"
   ]
  },
  {
   "cell_type": "code",
   "execution_count": 8,
   "id": "c6f0a44e-d314-4e2f-af9f-2723eed55c45",
   "metadata": {},
   "outputs": [
    {
     "name": "stdout",
     "output_type": "stream",
     "text": [
      "Non-synonymous mutations: 47273\n"
     ]
    }
   ],
   "source": [
    "non_synonymous = ['Missense_Mutation','Nonsense_Mutation','Frame_Shift_Del',\n",
    "    'Frame_Shift_Ins','Splice_Site','Translation_Start_Site',\n",
    "    'In_Frame_Del','In_Frame_Ins','Nonstop_Mutation'\n",
    "]\n",
    "\n",
    "ns_maf = skcm_maf[skcm_maf['Variant_Classification'].isin(non_synonymous)]\n",
    "print(f\"Non-synonymous mutations: {len(ns_maf)}\")"
   ]
  },
  {
   "cell_type": "markdown",
   "id": "c1b1beff-2471-42b8-aecf-14fa77865407",
   "metadata": {},
   "source": [
    "TMB per sample:"
   ]
  },
  {
   "cell_type": "code",
   "execution_count": 9,
   "id": "14b6273f-c364-4706-a85d-67d136397b40",
   "metadata": {},
   "outputs": [],
   "source": [
    "tmb_counts = (\n",
    "    ns_maf['Tumor_Sample_Barcode']\n",
    "    .value_counts()\n",
    "    .rename_axis('sample_barcode')\n",
    "    .reset_index(name='mutation_count')\n",
    ")\n",
    "\n",
    "tmb_counts['TMB'] = (tmb_counts['mutation_count'] / 38)\n",
    "tmb_counts['TMB_bin'] = pd.qcut(tmb_counts['TMB'], q = 3, labels = ['Low', 'Medium', 'High'])"
   ]
  },
  {
   "cell_type": "code",
   "execution_count": 10,
   "id": "119ba940-15b0-4872-877d-3769660b51f9",
   "metadata": {},
   "outputs": [
    {
     "data": {
      "text/html": [
       "<div>\n",
       "<style scoped>\n",
       "    .dataframe tbody tr th:only-of-type {\n",
       "        vertical-align: middle;\n",
       "    }\n",
       "\n",
       "    .dataframe tbody tr th {\n",
       "        vertical-align: top;\n",
       "    }\n",
       "\n",
       "    .dataframe thead th {\n",
       "        text-align: right;\n",
       "    }\n",
       "</style>\n",
       "<table border=\"1\" class=\"dataframe\">\n",
       "  <thead>\n",
       "    <tr style=\"text-align: right;\">\n",
       "      <th></th>\n",
       "      <th>sample_barcode</th>\n",
       "      <th>mutation_count</th>\n",
       "      <th>TMB</th>\n",
       "      <th>TMB_bin</th>\n",
       "    </tr>\n",
       "  </thead>\n",
       "  <tbody>\n",
       "    <tr>\n",
       "      <th>0</th>\n",
       "      <td>TCGA-FR-A726-01A-11D-A32N-08</td>\n",
       "      <td>5776</td>\n",
       "      <td>152.000000</td>\n",
       "      <td>High</td>\n",
       "    </tr>\n",
       "    <tr>\n",
       "      <th>1</th>\n",
       "      <td>TCGA-BF-A1Q0-01A-21D-A19A-08</td>\n",
       "      <td>2592</td>\n",
       "      <td>68.210526</td>\n",
       "      <td>High</td>\n",
       "    </tr>\n",
       "    <tr>\n",
       "      <th>2</th>\n",
       "      <td>TCGA-GN-A26C-01A-11D-A19A-08</td>\n",
       "      <td>2412</td>\n",
       "      <td>63.473684</td>\n",
       "      <td>High</td>\n",
       "    </tr>\n",
       "    <tr>\n",
       "      <th>3</th>\n",
       "      <td>TCGA-YG-AA3N-01A-11D-A38G-08</td>\n",
       "      <td>1644</td>\n",
       "      <td>43.263158</td>\n",
       "      <td>High</td>\n",
       "    </tr>\n",
       "    <tr>\n",
       "      <th>4</th>\n",
       "      <td>TCGA-BF-A1PZ-01A-11D-A19A-08</td>\n",
       "      <td>1594</td>\n",
       "      <td>41.947368</td>\n",
       "      <td>High</td>\n",
       "    </tr>\n",
       "  </tbody>\n",
       "</table>\n",
       "</div>"
      ],
      "text/plain": [
       "                 sample_barcode  mutation_count         TMB TMB_bin\n",
       "0  TCGA-FR-A726-01A-11D-A32N-08            5776  152.000000    High\n",
       "1  TCGA-BF-A1Q0-01A-21D-A19A-08            2592   68.210526    High\n",
       "2  TCGA-GN-A26C-01A-11D-A19A-08            2412   63.473684    High\n",
       "3  TCGA-YG-AA3N-01A-11D-A38G-08            1644   43.263158    High\n",
       "4  TCGA-BF-A1PZ-01A-11D-A19A-08            1594   41.947368    High"
      ]
     },
     "execution_count": 10,
     "metadata": {},
     "output_type": "execute_result"
    }
   ],
   "source": [
    "tmb_counts.head()"
   ]
  },
  {
   "cell_type": "markdown",
   "id": "9509b1a1-58d9-4cbe-80c5-98b1f7709f40",
   "metadata": {},
   "source": [
    "# Gene expression based T-cell classification"
   ]
  },
  {
   "cell_type": "code",
   "execution_count": 11,
   "id": "cd826930-5522-422b-92d2-413d027948bf",
   "metadata": {},
   "outputs": [
    {
     "data": {
      "text/html": [
       "<div>\n",
       "<style scoped>\n",
       "    .dataframe tbody tr th:only-of-type {\n",
       "        vertical-align: middle;\n",
       "    }\n",
       "\n",
       "    .dataframe tbody tr th {\n",
       "        vertical-align: top;\n",
       "    }\n",
       "\n",
       "    .dataframe thead th {\n",
       "        text-align: right;\n",
       "    }\n",
       "</style>\n",
       "<table border=\"1\" class=\"dataframe\">\n",
       "  <thead>\n",
       "    <tr style=\"text-align: right;\">\n",
       "      <th></th>\n",
       "      <th>Gene</th>\n",
       "      <th>Gene signature</th>\n",
       "      <th>Description</th>\n",
       "      <th>PMID</th>\n",
       "    </tr>\n",
       "  </thead>\n",
       "  <tbody>\n",
       "    <tr>\n",
       "      <th>0</th>\n",
       "      <td>ANGPT1</td>\n",
       "      <td>Angiogenesis</td>\n",
       "      <td>ANGPT1 functions as a TIE2 agonist, which indu...</td>\n",
       "      <td>20651738</td>\n",
       "    </tr>\n",
       "    <tr>\n",
       "      <th>1</th>\n",
       "      <td>ANGPT2</td>\n",
       "      <td>Angiogenesis</td>\n",
       "      <td>ANGPT2 normally functions as an ANGPT1antagoni...</td>\n",
       "      <td>20651738</td>\n",
       "    </tr>\n",
       "    <tr>\n",
       "      <th>2</th>\n",
       "      <td>CDH5</td>\n",
       "      <td>Angiogenesis</td>\n",
       "      <td>Vascular endothelial (VE)-cadherin is specific...</td>\n",
       "      <td>16256984</td>\n",
       "    </tr>\n",
       "    <tr>\n",
       "      <th>3</th>\n",
       "      <td>CXCL5</td>\n",
       "      <td>Angiogenesis</td>\n",
       "      <td>CXCL5, a member of the CXC chemokine family, h...</td>\n",
       "      <td>21356384</td>\n",
       "    </tr>\n",
       "    <tr>\n",
       "      <th>4</th>\n",
       "      <td>CXCL8</td>\n",
       "      <td>Angiogenesis</td>\n",
       "      <td>IL8 is a proinflammatory CXC chemokine associa...</td>\n",
       "      <td>18980965</td>\n",
       "    </tr>\n",
       "  </tbody>\n",
       "</table>\n",
       "</div>"
      ],
      "text/plain": [
       "     Gene Gene signature                                        Description  \\\n",
       "0  ANGPT1   Angiogenesis  ANGPT1 functions as a TIE2 agonist, which indu...   \n",
       "1  ANGPT2   Angiogenesis  ANGPT2 normally functions as an ANGPT1antagoni...   \n",
       "2    CDH5   Angiogenesis  Vascular endothelial (VE)-cadherin is specific...   \n",
       "3   CXCL5   Angiogenesis  CXCL5, a member of the CXC chemokine family, h...   \n",
       "4   CXCL8   Angiogenesis  IL8 is a proinflammatory CXC chemokine associa...   \n",
       "\n",
       "       PMID  \n",
       "0  20651738  \n",
       "1  20651738  \n",
       "2  16256984  \n",
       "3  21356384  \n",
       "4  18980965  "
      ]
     },
     "execution_count": 11,
     "metadata": {},
     "output_type": "execute_result"
    }
   ],
   "source": [
    "bag.head()"
   ]
  },
  {
   "cell_type": "markdown",
   "id": "9b467be5-f769-4c63-947a-5d06535aa2e8",
   "metadata": {},
   "source": [
    "Harmonize gene identifiers:"
   ]
  },
  {
   "cell_type": "code",
   "execution_count": 12,
   "id": "0aa4e66c-fe51-4587-bf22-4594d9134b79",
   "metadata": {},
   "outputs": [],
   "source": [
    "expr.index = expr.index.str.replace(r\"\\..*\", \"\", regex = True)\n",
    "gencode_map['Ensembl_ID'] = gencode_map['id'].str.replace(r\"\\.\\d+$\", \"\", regex = True)"
   ]
  },
  {
   "cell_type": "markdown",
   "id": "65d00c13-85e6-415c-90a6-c82937986df4",
   "metadata": {},
   "source": [
    "Function for getting gene expression by Bag pathway:"
   ]
  },
  {
   "cell_type": "code",
   "execution_count": 14,
   "id": "b3f927de-728a-42b9-b874-cda4fd9c5b71",
   "metadata": {},
   "outputs": [],
   "source": [
    "def pathway_expr(pathway_name):\n",
    "    genes = bag[bag['Gene signature'] == pathway_name]['Gene'].unique()\n",
    "    matches = gencode_map[gencode_map['gene'].isin(genes)]['Ensembl_ID'].unique()\n",
    "    gene_expr = expr.loc[expr.index.intersection(matches)]\n",
    "    return gene_expr"
   ]
  },
  {
   "cell_type": "markdown",
   "id": "de8c6ef3-57fa-4db8-b498-65f2ec5de880",
   "metadata": {},
   "source": [
    "Double check log2(x + 1e-4) transform is reasonable:"
   ]
  },
  {
   "cell_type": "code",
   "execution_count": 15,
   "id": "cc39d692-a6d7-4537-b1d6-bb59ef2882fa",
   "metadata": {},
   "outputs": [],
   "source": [
    "pathway_angio = pathway_expr(\"Angiogenesis\")"
   ]
  },
  {
   "cell_type": "code",
   "execution_count": 16,
   "id": "c3b9fa78-523f-4b40-a04d-15f0beba5e72",
   "metadata": {},
   "outputs": [
    {
     "data": {
      "text/plain": [
       "array(['trans_gene_expression_hist_r.png'], dtype='<U32')"
      ]
     },
     "execution_count": 16,
     "metadata": {},
     "output_type": "execute_result"
    }
   ],
   "source": [
    "pandas2ri.activate()\n",
    "robjects.globalenv['expr_values'] = robjects.FloatVector(pathway_angio.iloc[0, :])\n",
    "robjects.r('''\n",
    "    library(ggplot2)\n",
    "    df <- data.frame(expression = expr_values, trans_expr = log2(expr_values + 1e-4))\n",
    "    p <- ggplot(df, aes(x = expression)) + theme_bw() +\n",
    "        geom_histogram(binwidth = 0.2, fill = \"steelblue\", color = \"black\")\n",
    "    p2 <- ggplot(df, aes(x = trans_expr)) + theme_bw() +\n",
    "        geom_histogram(binwidth = 0.2, fill = \"steelblue\", color = \"black\")\n",
    "    ggsave(filename = \"gene_expression_hist_r.png\", plot = p, width = 6, height = 4, dpi = 300)\n",
    "    ggsave(filename = \"trans_gene_expression_hist_r.png\", plot = p2, width = 6, height = 4, dpi = 100)\n",
    "''')"
   ]
  },
  {
   "cell_type": "code",
   "execution_count": 17,
   "id": "e2891758-35e0-4dac-9a54-9cd2ed97cc1a",
   "metadata": {},
   "outputs": [
    {
     "data": {
      "image/png": "[encoded data removed]",
      "text/plain": [
       "<IPython.core.display.Image object>"
      ]
     },
     "execution_count": 17,
     "metadata": {},
     "output_type": "execute_result"
    }
   ],
   "source": [
    "Image(filename = \"gene_expression_hist_r.png\")"
   ]
  },
  {
   "cell_type": "code",
   "execution_count": 18,
   "id": "56cfb684-8b9e-4dc3-a880-35786bc0b949",
   "metadata": {},
   "outputs": [
    {
     "data": {
      "image/png": "[encoded data removed]",
      "text/plain": [
       "<IPython.core.display.Image object>"
      ]
     },
     "execution_count": 18,
     "metadata": {},
     "output_type": "execute_result"
    }
   ],
   "source": [
    "Image(filename = \"trans_gene_expression_hist_r.png\")"
   ]
  },
  {
   "cell_type": "markdown",
   "id": "883c6616-e9d8-4ad1-870c-0562d5d6162b",
   "metadata": {},
   "source": [
    "Function for standardizing each gene, do PCA by Bag path, and extract scores:"
   ]
  },
  {
   "cell_type": "code",
   "execution_count": 21,
   "id": "c98b5f77-7740-4a98-8aad-94bda0853d65",
   "metadata": {},
   "outputs": [],
   "source": [
    "bag_path = bag['Gene signature'].unique()"
   ]
  },
  {
   "cell_type": "code",
   "execution_count": 19,
   "id": "5ffb6631-8153-48cf-8ee8-9d478ad22f64",
   "metadata": {},
   "outputs": [],
   "source": [
    "def trans_pca(pathway_name):\n",
    "    gene_expr = pathway_expr(pathway_name)\n",
    "    trans_gene_expr = np.log2(gene_expr + 1e-4)\n",
    "    scaled_expr = StandardScaler().fit_transform(trans_gene_expr.T)\n",
    "    scaled_expr = pd.DataFrame(scaled_expr, index = gene_expr.columns, columns = gene_expr.index)\n",
    "    pca = PCA(n_components = 1).fit_transform(scaled_expr)\n",
    "    return pd.DataFrame(pca, index = scaled_expr.index, columns = ['PC1'])"
   ]
  },
  {
   "cell_type": "code",
   "execution_count": 24,
   "id": "466dc06c-f1f7-428a-bbf1-f75cc3403ee9",
   "metadata": {},
   "outputs": [],
   "source": [
    "pc1_bag_path = []\n",
    "for pathway in bag_path:\n",
    "    pc1_df = trans_pca(pathway)\n",
    "    pc1_df['Pathway'] = pathway\n",
    "    pc1_df['Sample'] = pc1_df.index\n",
    "    pc1_bag_path.append(pc1_df)\n",
    "pc1_df_all = pd.concat(pc1_bag_path, ignore_index = True)"
   ]
  },
  {
   "cell_type": "code",
   "execution_count": 26,
   "id": "b9738ba2-f4e7-4a26-a277-cf86df6764ac",
   "metadata": {},
   "outputs": [
    {
     "data": {
      "text/html": [
       "<div>\n",
       "<style scoped>\n",
       "    .dataframe tbody tr th:only-of-type {\n",
       "        vertical-align: middle;\n",
       "    }\n",
       "\n",
       "    .dataframe tbody tr th {\n",
       "        vertical-align: top;\n",
       "    }\n",
       "\n",
       "    .dataframe thead th {\n",
       "        text-align: right;\n",
       "    }\n",
       "</style>\n",
       "<table border=\"1\" class=\"dataframe\">\n",
       "  <thead>\n",
       "    <tr style=\"text-align: right;\">\n",
       "      <th></th>\n",
       "      <th>PC1</th>\n",
       "      <th>Pathway</th>\n",
       "      <th>Sample</th>\n",
       "    </tr>\n",
       "  </thead>\n",
       "  <tbody>\n",
       "    <tr>\n",
       "      <th>13712</th>\n",
       "      <td>1.606100</td>\n",
       "      <td>Tumor-associated Macrophages</td>\n",
       "      <td>TCGA-ER-A2NC-06A</td>\n",
       "    </tr>\n",
       "    <tr>\n",
       "      <th>13713</th>\n",
       "      <td>2.503247</td>\n",
       "      <td>Tumor-associated Macrophages</td>\n",
       "      <td>TCGA-ER-A2NG-06A</td>\n",
       "    </tr>\n",
       "    <tr>\n",
       "      <th>13714</th>\n",
       "      <td>-2.246140</td>\n",
       "      <td>Tumor-associated Macrophages</td>\n",
       "      <td>TCGA-ER-A2NB-01A</td>\n",
       "    </tr>\n",
       "    <tr>\n",
       "      <th>13715</th>\n",
       "      <td>-2.470138</td>\n",
       "      <td>Tumor-associated Macrophages</td>\n",
       "      <td>TCGA-FS-A4F0-06A</td>\n",
       "    </tr>\n",
       "    <tr>\n",
       "      <th>13716</th>\n",
       "      <td>-12.117980</td>\n",
       "      <td>Tumor-associated Macrophages</td>\n",
       "      <td>TCGA-GN-A262-06A</td>\n",
       "    </tr>\n",
       "  </tbody>\n",
       "</table>\n",
       "</div>"
      ],
      "text/plain": [
       "             PC1                       Pathway            Sample\n",
       "13712   1.606100  Tumor-associated Macrophages  TCGA-ER-A2NC-06A\n",
       "13713   2.503247  Tumor-associated Macrophages  TCGA-ER-A2NG-06A\n",
       "13714  -2.246140  Tumor-associated Macrophages  TCGA-ER-A2NB-01A\n",
       "13715  -2.470138  Tumor-associated Macrophages  TCGA-FS-A4F0-06A\n",
       "13716 -12.117980  Tumor-associated Macrophages  TCGA-GN-A262-06A"
      ]
     },
     "execution_count": 26,
     "metadata": {},
     "output_type": "execute_result"
    }
   ],
   "source": [
    "pc1_df_all.tail()"
   ]
  },
  {
   "cell_type": "markdown",
   "id": "0b76d092-d07a-4fd0-a3c2-035c68fbf4fe",
   "metadata": {},
   "source": [
    "# Pan cancer atlas immune subtypes (C1-C6)"
   ]
  },
  {
   "cell_type": "code",
   "execution_count": null,
   "id": "c0b05ccc-6be0-4d82-a9cb-f714d821180c",
   "metadata": {},
   "outputs": [],
   "source": []
  }
 ],
 "metadata": {
  "kernelspec": {
   "display_name": "Python 3 (ipykernel)",
   "language": "python",
   "name": "python3"
  },
  "language_info": {
   "codemirror_mode": {
    "name": "ipython",
    "version": 3
   },
   "file_extension": ".py",
   "mimetype": "text/x-python",
   "name": "python",
   "nbconvert_exporter": "python",
   "pygments_lexer": "ipython3",
   "version": "3.10.17"
  }
 },
 "nbformat": 4,
 "nbformat_minor": 5
}
